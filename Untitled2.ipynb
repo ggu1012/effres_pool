{
 "cells": [
  {
   "cell_type": "code",
   "execution_count": 1,
   "id": "3332b7d1-204c-4b68-8e8d-00895f8106cf",
   "metadata": {},
   "outputs": [],
   "source": [
    "import numpy as np\n",
    "import pandas as pd\n",
    "import matplotlib.pyplot as plt\n",
    "import dgl.sparse as dglsp\n",
    "import torch"
   ]
  },
  {
   "cell_type": "code",
   "execution_count": 2,
   "metadata": {},
   "outputs": [
    {
     "data": {
      "text/plain": [
       "SparseMatrix(indices=tensor([[1, 1, 2],\n",
       "                             [2, 4, 3]]),\n",
       "             values=tensor([0.5000, 0.5000, 1.0000]),\n",
       "             shape=(3, 5), nnz=3)"
      ]
     },
     "execution_count": 2,
     "metadata": {},
     "output_type": "execute_result"
    }
   ],
   "source": [
    "indices = torch.tensor([[1, 1, 2],\n",
    "                        [2, 4, 3]])\n",
    "\n",
    "A = dglsp.spmatrix(indices)\n",
    "D = dglsp.diag(1/ A.sum(dim=1))\n",
    "D @ A"
   ]
  },
  {
   "cell_type": "code",
   "execution_count": 3,
   "id": "6c731c40-943b-488a-85bb-2a1302aed3b4",
   "metadata": {},
   "outputs": [],
   "source": [
    "df = pd.DataFrame()\n",
    "df['x'] = np.arange(300000)\n",
    "df['y'] = np.hstack([2*np.ones(100000), 3*np.ones(100000), 5*np.ones(50000), 7*np.ones(49998), 100 * np.ones(2)])"
   ]
  },
  {
   "cell_type": "code",
   "execution_count": 4,
   "id": "8e4ecd99-5ccd-4b1b-b357-2483e8c958df",
   "metadata": {},
   "outputs": [
    {
     "data": {
      "text/html": [
       "<div>\n",
       "<style scoped>\n",
       "    .dataframe tbody tr th:only-of-type {\n",
       "        vertical-align: middle;\n",
       "    }\n",
       "\n",
       "    .dataframe tbody tr th {\n",
       "        vertical-align: top;\n",
       "    }\n",
       "\n",
       "    .dataframe thead th {\n",
       "        text-align: right;\n",
       "    }\n",
       "</style>\n",
       "<table border=\"1\" class=\"dataframe\">\n",
       "  <thead>\n",
       "    <tr style=\"text-align: right;\">\n",
       "      <th></th>\n",
       "      <th>x</th>\n",
       "      <th>y</th>\n",
       "    </tr>\n",
       "  </thead>\n",
       "  <tbody>\n",
       "    <tr>\n",
       "      <th>x</th>\n",
       "      <td>1.000000</td>\n",
       "      <td>0.957427</td>\n",
       "    </tr>\n",
       "    <tr>\n",
       "      <th>y</th>\n",
       "      <td>0.957427</td>\n",
       "      <td>1.000000</td>\n",
       "    </tr>\n",
       "  </tbody>\n",
       "</table>\n",
       "</div>"
      ],
      "text/plain": [
       "          x         y\n",
       "x  1.000000  0.957427\n",
       "y  0.957427  1.000000"
      ]
     },
     "execution_count": 4,
     "metadata": {},
     "output_type": "execute_result"
    }
   ],
   "source": [
    "df.corr('spearman')"
   ]
  },
  {
   "cell_type": "code",
   "execution_count": 5,
   "id": "f8f4f919-fbd2-4a60-90b0-3719442b4b8f",
   "metadata": {},
   "outputs": [
    {
     "data": {
      "text/plain": [
       "(array([[6.000e+03, 0.000e+00, 0.000e+00, ..., 0.000e+00, 0.000e+00,\n",
       "         0.000e+00],\n",
       "        [6.000e+03, 0.000e+00, 0.000e+00, ..., 0.000e+00, 0.000e+00,\n",
       "         0.000e+00],\n",
       "        [6.000e+03, 0.000e+00, 0.000e+00, ..., 0.000e+00, 0.000e+00,\n",
       "         0.000e+00],\n",
       "        ...,\n",
       "        [0.000e+00, 0.000e+00, 6.000e+03, ..., 0.000e+00, 0.000e+00,\n",
       "         0.000e+00],\n",
       "        [0.000e+00, 0.000e+00, 6.000e+03, ..., 0.000e+00, 0.000e+00,\n",
       "         0.000e+00],\n",
       "        [0.000e+00, 0.000e+00, 5.998e+03, ..., 0.000e+00, 0.000e+00,\n",
       "         2.000e+00]]),\n",
       " array([     0.  ,   5999.98,  11999.96,  17999.94,  23999.92,  29999.9 ,\n",
       "         35999.88,  41999.86,  47999.84,  53999.82,  59999.8 ,  65999.78,\n",
       "         71999.76,  77999.74,  83999.72,  89999.7 ,  95999.68, 101999.66,\n",
       "        107999.64, 113999.62, 119999.6 , 125999.58, 131999.56, 137999.54,\n",
       "        143999.52, 149999.5 , 155999.48, 161999.46, 167999.44, 173999.42,\n",
       "        179999.4 , 185999.38, 191999.36, 197999.34, 203999.32, 209999.3 ,\n",
       "        215999.28, 221999.26, 227999.24, 233999.22, 239999.2 , 245999.18,\n",
       "        251999.16, 257999.14, 263999.12, 269999.1 , 275999.08, 281999.06,\n",
       "        287999.04, 293999.02, 299999.  ]),\n",
       " array([  2.  ,   3.96,   5.92,   7.88,   9.84,  11.8 ,  13.76,  15.72,\n",
       "         17.68,  19.64,  21.6 ,  23.56,  25.52,  27.48,  29.44,  31.4 ,\n",
       "         33.36,  35.32,  37.28,  39.24,  41.2 ,  43.16,  45.12,  47.08,\n",
       "         49.04,  51.  ,  52.96,  54.92,  56.88,  58.84,  60.8 ,  62.76,\n",
       "         64.72,  66.68,  68.64,  70.6 ,  72.56,  74.52,  76.48,  78.44,\n",
       "         80.4 ,  82.36,  84.32,  86.28,  88.24,  90.2 ,  92.16,  94.12,\n",
       "         96.08,  98.04, 100.  ]),\n",
       " <matplotlib.collections.QuadMesh at 0x7f7688615a10>)"
      ]
     },
     "execution_count": 5,
     "metadata": {},
     "output_type": "execute_result"
    },
    {
     "data": {
      "image/png": "[encoded data removed]",
      "text/plain": [
       "<Figure size 640x480 with 1 Axes>"
      ]
     },
     "metadata": {},
     "output_type": "display_data"
    }
   ],
   "source": [
    "plt.hist2d(df['x'], df['y'], bins=50)"
   ]
  },
  {
   "cell_type": "code",
   "execution_count": 9,
   "metadata": {},
   "outputs": [
    {
     "data": {
      "text/plain": [
       "tensor([[37890.0000,     0.0000,     0.0000,  ...,    94.0000,     0.1026,\n",
       "             1.0000],\n",
       "        [39681.0000,     0.0000,     0.0000,  ...,    94.0000,     0.0000,\n",
       "             1.0000],\n",
       "        [  957.0000,     0.0000,     0.0000,  ...,    93.0000,     0.0000,\n",
       "             1.0000],\n",
       "        ...,\n",
       "        [ 5122.0000, 40937.0000,     0.0000,  ...,     0.0000,     0.0000,\n",
       "             0.0000],\n",
       "        [ 5124.0000, 40938.0000,     0.0000,  ...,     0.0000,     0.0000,\n",
       "             0.0000],\n",
       "        [ 5124.0000, 40938.0000,     0.0000,  ...,     0.0000,     0.0000,\n",
       "             0.0000]])"
      ]
     },
     "execution_count": 9,
     "metadata": {},
     "output_type": "execute_result"
    }
   ],
   "source": [
    "xxx = torch.load('baselines/net2/net2_efeat/jpeg_encoder_0.55_0.75.pt')\n",
    "torch.set_printoptions(sci_mode=False)\n",
    "xxx"
   ]
  }
 ],
 "metadata": {
  "kernelspec": {
   "display_name": "dgl",
   "language": "python",
   "name": "python3"
  },
  "language_info": {
   "codemirror_mode": {
    "name": "ipython",
    "version": 3
   },
   "file_extension": ".py",
   "mimetype": "text/x-python",
   "name": "python",
   "nbconvert_exporter": "python",
   "pygments_lexer": "ipython3",
   "version": "3.11.5"
  }
 },
 "nbformat": 4,
 "nbformat_minor": 5
}
