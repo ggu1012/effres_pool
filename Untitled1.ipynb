{
 "cells": [
  {
   "cell_type": "code",
   "execution_count": 8,
   "id": "2f48311b-12c6-4871-9d7d-4c3cbbfaf183",
   "metadata": {},
   "outputs": [],
   "source": [
    "import pickle\n",
    "import gzip"
   ]
  },
  {
   "cell_type": "code",
   "execution_count": 9,
   "id": "75b44ef0-e84d-4aa8-8ba7-4ec86869b164",
   "metadata": {},
   "outputs": [],
   "source": [
    "with gzip.open('../DREAMPlace/install/dataset/bsg_chip/bsg_chip_0.55_1.25.gp.pklz', 'rb') as f:\n",
    "    xx = pickle.load(f)"
   ]
  },
  {
   "cell_type": "code",
   "execution_count": 31,
   "id": "a9509bae-9b3b-430a-8402-c21a4048f79e",
   "metadata": {},
   "outputs": [],
   "source": [
    "cn = xx['node_info']['node_name2id_map']['next\\/tunnel_bcti_b1_ntf_rof_1__psdlrg_fifo_big1p_mem_1srw_z_s1r1w_mem_synth\\/U9972']"
   ]
  },
  {
   "cell_type": "code",
   "execution_count": 35,
   "id": "63507423-6476-4016-ad32-0054f88b8c1f",
   "metadata": {},
   "outputs": [
    {
     "data": {
      "text/plain": [
       "(9516.0, 6336.8423)"
      ]
     },
     "execution_count": 35,
     "metadata": {},
     "output_type": "execute_result"
    }
   ],
   "source": [
    "xx['node_info']['node_position'][0][cn], xx['node_info']['node_position'][1][cn]"
   ]
  }
 ],
 "metadata": {
  "kernelspec": {
   "display_name": "Python 3 (ipykernel)",
   "language": "python",
   "name": "python3"
  },
  "language_info": {
   "codemirror_mode": {
    "name": "ipython",
    "version": 3
   },
   "file_extension": ".py",
   "mimetype": "text/x-python",
   "name": "python",
   "nbconvert_exporter": "python",
   "pygments_lexer": "ipython3",
   "version": "3.10.9"
  }
 },
 "nbformat": 4,
 "nbformat_minor": 5
}
