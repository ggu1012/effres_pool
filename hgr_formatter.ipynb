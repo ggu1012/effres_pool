{
 "cells": [
  {
   "cell_type": "code",
   "execution_count": 9,
   "id": "6ff35075-07cc-429a-b5f5-501205d3d5d9",
   "metadata": {},
   "outputs": [],
   "source": [
    "import gzip\n",
    "import numpy as np\n",
    "import pickle\n",
    "import torch\n",
    "from scipy.sparse import csr_array\n",
    "import os\n",
    "import subprocess\n",
    "import matplotlib.pyplot as plt\n",
    "import pandas as pd\n",
    "import glob"
   ]
  },
  {
   "cell_type": "code",
   "execution_count": 34,
   "id": "74b4e86f-6a76-4662-94b4-0d76dfe75f17",
   "metadata": {},
   "outputs": [],
   "source": [
    "top = 'mempool_tile_wrap'"
   ]
  },
  {
   "cell_type": "code",
   "execution_count": 35,
   "id": "8df9c720-23f3-4373-957d-ff9e4ef88b0f",
   "metadata": {},
   "outputs": [],
   "source": [
    "with gzip.open(f'../DREAMPlace/install/dataset/{top}/{top}_0.7_1.0.icc2.pklz') as f:\n",
    "    xx = pickle.load(f)"
   ]
  },
  {
   "cell_type": "code",
   "execution_count": 36,
   "id": "f5f3102d-835f-4051-a191-4f57a68386e8",
   "metadata": {},
   "outputs": [],
   "source": [
    "pin2net = np.array(xx['pin_info']['pin2net_map'])\n",
    "pin2node = np.array(xx['pin_info']['pin2node_map'])\n",
    "\n",
    "H = csr_array((np.ones(len(pin2net)), (pin2node, pin2net)))"
   ]
  },
  {
   "cell_type": "code",
   "execution_count": 37,
   "id": "413c017b-2daa-44b2-b99c-d88aabcac573",
   "metadata": {},
   "outputs": [],
   "source": [
    "flat_net2pin_map = np.array(xx['net_info']['flat_net2pin_map'])\n",
    "flat_net2pin_start_map = np.array(xx['net_info']['flat_net2pin_start_map'])\n",
    "flat_node2pin_map =  np.array(xx['node_info']['flat_node2pin_map'])\n",
    "flat_node2pin_start_map =  np.array(xx['node_info']['flat_node2pin_start_map'])"
   ]
  },
  {
   "cell_type": "code",
   "execution_count": 38,
   "id": "08991fed-752e-4cd2-bc7a-ba8a69c3dd47",
   "metadata": {},
   "outputs": [],
   "source": [
    "my_net2pin_map = np.array([flat_net2pin_map[flat_net2pin_start_map[i]:flat_net2pin_start_map[i+1]] \\\n",
    "                                for i in range(len(flat_net2pin_start_map) - 1)], dtype=object)"
   ]
  },
  {
   "cell_type": "code",
   "execution_count": 39,
   "id": "52597d80-51db-4c26-864c-7bd84810957f",
   "metadata": {},
   "outputs": [],
   "source": [
    "net2node = [[] for _ in range(H.shape[1])]\n",
    "for pin, net in enumerate(pin2net):\n",
    "    net2node[net].append(str(pin2node[pin] + 1))\n",
    "\n",
    "for i, net in enumerate(net2node):\n",
    "    net2node[i] = set(net)"
   ]
  },
  {
   "cell_type": "code",
   "execution_count": 40,
   "id": "40335bb9-4c7f-4e7a-a4e7-b531f8627ebc",
   "metadata": {},
   "outputs": [
    {
     "name": "stdout",
     "output_type": "stream",
     "text": [
      "{'86664'}\n",
      "{'86662'}\n",
      "{'86663'}\n",
      "{'86732'}\n",
      "{'86733'}\n",
      "{'86734'}\n",
      "{'86735'}\n",
      "{'86835'}\n",
      "{'86836'}\n",
      "{'86837'}\n",
      "{'86838'}\n",
      "{'86938'}\n",
      "{'86939'}\n",
      "{'86940'}\n",
      "{'86941'}\n",
      "{'87041'}\n",
      "{'87042'}\n",
      "{'87043'}\n",
      "{'87044'}\n",
      "{'87121'}\n",
      "{'87122'}\n",
      "{'87123'}\n",
      "{'87124'}\n",
      "{'87226'}\n",
      "{'87227'}\n",
      "{'87228'}\n",
      "{'87229'}\n",
      "{'87331'}\n",
      "{'87332'}\n",
      "{'87333'}\n",
      "{'87334'}\n",
      "{'87436'}\n",
      "{'87437'}\n",
      "{'87438'}\n",
      "{'87439'}\n",
      "{'87788'}\n",
      "{'87789'}\n",
      "{'87790'}\n",
      "{'87791'}\n",
      "{'87792'}\n",
      "{'87795'}\n",
      "{'87924'}\n",
      "{'87925'}\n",
      "{'87927'}\n"
     ]
    }
   ],
   "source": [
    "for x in net2node:\n",
    "    if len(x) < 2:\n",
    "        print(x)"
   ]
  },
  {
   "cell_type": "code",
   "execution_count": 41,
   "id": "b23b0180-bf25-438b-a071-0c936b09d409",
   "metadata": {},
   "outputs": [],
   "source": [
    "node_id = np.unique(pin2node)\n",
    "\n",
    "with open(f'HyperEF_julia/hgr/{top}.hgr', 'w') as f:\n",
    "    f.write(f'{H.shape[1]} {H.shape[0]}\\n')\n",
    "    for x in range(H.shape[1]):        \n",
    "        str_ = ' '.join(net2node[x]) + '\\n'\n",
    "        f.write(str_)"
   ]
  },
  {
   "cell_type": "code",
   "execution_count": null,
   "id": "e1f8a1e7-6b27-4f1b-a04b-6b49bca20706",
   "metadata": {},
   "outputs": [],
   "source": []
  }
 ],
 "metadata": {
  "kernelspec": {
   "display_name": "dgl",
   "language": "python",
   "name": "dgl"
  },
  "language_info": {
   "codemirror_mode": {
    "name": "ipython",
    "version": 3
   },
   "file_extension": ".py",
   "mimetype": "text/x-python",
   "name": "python",
   "nbconvert_exporter": "python",
   "pygments_lexer": "ipython3",
   "version": "3.11.5"
  }
 },
 "nbformat": 4,
 "nbformat_minor": 5
}
