{
 "cells": [
  {
   "cell_type": "code",
   "execution_count": 1,
   "id": "6ff35075-07cc-429a-b5f5-501205d3d5d9",
   "metadata": {},
   "outputs": [],
   "source": [
    "import gzip\n",
    "import numpy as np\n",
    "import pickle\n",
    "import torch\n",
    "from scipy.sparse import csr_array\n",
    "import os\n",
    "import subprocess\n",
    "import matplotlib.pyplot as plt\n",
    "import pandas as pd\n",
    "import glob\n",
    "from utils.hypergraph_conversion import pklz_to_incmat"
   ]
  },
  {
   "cell_type": "code",
   "execution_count": 8,
   "id": "74b4e86f-6a76-4662-94b4-0d76dfe75f17",
   "metadata": {},
   "outputs": [],
   "source": [
    "top = 'aes_cipher_top'"
   ]
  },
  {
   "cell_type": "code",
   "execution_count": 9,
   "id": "8df9c720-23f3-4373-957d-ff9e4ef88b0f",
   "metadata": {},
   "outputs": [],
   "source": [
    "with gzip.open(f'../DREAMPlace/install/dataset/{top}/{top}_0.7_1.0.icc2.pklz') as f:\n",
    "    xx = pickle.load(f)\n",
    "\n",
    "H, net2node, _ = pklz_to_incmat(xx)"
   ]
  },
  {
   "cell_type": "code",
   "execution_count": 10,
   "id": "40335bb9-4c7f-4e7a-a4e7-b531f8627ebc",
   "metadata": {},
   "outputs": [],
   "source": [
    "for x in net2node:\n",
    "    if len(x) < 2:\n",
    "        print(x)"
   ]
  },
  {
   "cell_type": "code",
   "execution_count": 11,
   "id": "b23b0180-bf25-438b-a071-0c936b09d409",
   "metadata": {},
   "outputs": [],
   "source": [
    "\n",
    "for i, ii in enumerate(net2node):\n",
    "    net2node[i] = [str(x+1) for x in net2node[i]]\n",
    "\n",
    "with open(f'../HyperEF_julia/hgr/{top}.hgr', 'w') as f:\n",
    "    f.write(f'{H.shape[1]} {H.shape[0]}\\n')\n",
    "    for x in range(H.shape[1]):        \n",
    "        str_ = ' '.join(net2node[x]) + '\\n'\n",
    "        f.write(str_)"
   ]
  }
 ],
 "metadata": {
  "kernelspec": {
   "display_name": "dgl",
   "language": "python",
   "name": "python3"
  },
  "language_info": {
   "codemirror_mode": {
    "name": "ipython",
    "version": 3
   },
   "file_extension": ".py",
   "mimetype": "text/x-python",
   "name": "python",
   "nbconvert_exporter": "python",
   "pygments_lexer": "ipython3",
   "version": "3.11.5"
  }
 },
 "nbformat": 4,
 "nbformat_minor": 5
}
