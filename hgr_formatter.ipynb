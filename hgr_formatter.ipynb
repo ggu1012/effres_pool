{
 "cells": [
  {
   "cell_type": "code",
   "execution_count": 1,
   "id": "6ff35075-07cc-429a-b5f5-501205d3d5d9",
   "metadata": {},
   "outputs": [
    {
     "ename": "ImportError",
     "evalue": "cannot import name 'pklz_to_incmat' from 'utils.hypergraph_conversion' (/home/shkim/myResearch/ML/utils/hypergraph_conversion.py)",
     "output_type": "error",
     "traceback": [
      "\u001b[0;31m---------------------------------------------------------------------------\u001b[0m",
      "\u001b[0;31mImportError\u001b[0m                               Traceback (most recent call last)",
      "\u001b[1;32m/home/shkim/myResearch/ML/hgr_formatter.ipynb 셀 1\u001b[0m line \u001b[0;36m1\n\u001b[1;32m      <a href='vscode-notebook-cell://ssh-remote%2Bgloryday/home/shkim/myResearch/ML/hgr_formatter.ipynb#W0sdnNjb2RlLXJlbW90ZQ%3D%3D?line=8'>9</a>\u001b[0m \u001b[39mimport\u001b[39;00m \u001b[39mpandas\u001b[39;00m \u001b[39mas\u001b[39;00m \u001b[39mpd\u001b[39;00m\n\u001b[1;32m     <a href='vscode-notebook-cell://ssh-remote%2Bgloryday/home/shkim/myResearch/ML/hgr_formatter.ipynb#W0sdnNjb2RlLXJlbW90ZQ%3D%3D?line=9'>10</a>\u001b[0m \u001b[39mimport\u001b[39;00m \u001b[39mglob\u001b[39;00m\n\u001b[0;32m---> <a href='vscode-notebook-cell://ssh-remote%2Bgloryday/home/shkim/myResearch/ML/hgr_formatter.ipynb#W0sdnNjb2RlLXJlbW90ZQ%3D%3D?line=10'>11</a>\u001b[0m \u001b[39mfrom\u001b[39;00m \u001b[39mutils\u001b[39;00m\u001b[39m.\u001b[39;00m\u001b[39mhypergraph_conversion\u001b[39;00m \u001b[39mimport\u001b[39;00m pklz_to_incmat\n",
      "\u001b[0;31mImportError\u001b[0m: cannot import name 'pklz_to_incmat' from 'utils.hypergraph_conversion' (/home/shkim/myResearch/ML/utils/hypergraph_conversion.py)"
     ]
    }
   ],
   "source": [
    "import gzip\n",
    "import numpy as np\n",
    "import pickle\n",
    "import torch\n",
    "from scipy.sparse import csr_array\n",
    "import os\n",
    "import subprocess\n",
    "import matplotlib.pyplot as plt\n",
    "import pandas as pd\n",
    "import glob\n",
    "from utils.hypergraph_conversion import pklz_to_incmat"
   ]
  },
  {
   "cell_type": "code",
   "execution_count": null,
   "id": "74b4e86f-6a76-4662-94b4-0d76dfe75f17",
   "metadata": {},
   "outputs": [],
   "source": [
    "top = 'aes_cipher_top'"
   ]
  },
  {
   "cell_type": "code",
   "execution_count": null,
   "id": "8df9c720-23f3-4373-957d-ff9e4ef88b0f",
   "metadata": {},
   "outputs": [],
   "source": [
    "with gzip.open(f'../DREAMPlace/install/dataset/{top}/{top}_0.7_1.0.icc2.pklz') as f:\n",
    "    xx = pickle.load(f)\n",
    "\n",
    "H, net2node, _ = pklz_to_incmat(xx)"
   ]
  },
  {
   "cell_type": "code",
   "execution_count": null,
   "metadata": {},
   "outputs": [],
   "source": []
  },
  {
   "cell_type": "code",
   "execution_count": 10,
   "id": "40335bb9-4c7f-4e7a-a4e7-b531f8627ebc",
   "metadata": {},
   "outputs": [],
   "source": [
    "for x in net2node:\n",
    "    if len(x) < 2:\n",
    "        print(x)"
   ]
  },
  {
   "cell_type": "code",
   "execution_count": 11,
   "id": "b23b0180-bf25-438b-a071-0c936b09d409",
   "metadata": {},
   "outputs": [],
   "source": [
    "\n",
    "for i, ii in enumerate(net2node):\n",
    "    net2node[i] = [str(x+1) for x in net2node[i]]\n",
    "\n",
    "with open(f'../HyperEF_julia/hgr/{top}.hgr', 'w') as f:\n",
    "    f.write(f'{H.shape[1]} {H.shape[0]}\\n')\n",
    "    for x in range(H.shape[1]):        \n",
    "        str_ = ' '.join(net2node[x]) + '\\n'\n",
    "        f.write(str_)"
   ]
  }
 ],
 "metadata": {
  "kernelspec": {
   "display_name": "dgl",
   "language": "python",
   "name": "python3"
  },
  "language_info": {
   "codemirror_mode": {
    "name": "ipython",
    "version": 3
   },
   "file_extension": ".py",
   "mimetype": "text/x-python",
   "name": "python",
   "nbconvert_exporter": "python",
   "pygments_lexer": "ipython3",
   "version": "3.11.5"
  }
 },
 "nbformat": 4,
 "nbformat_minor": 5
}
