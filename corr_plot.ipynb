{
 "cells": [
  {
   "cell_type": "code",
   "execution_count": 4,
   "id": "392a2a89-2c0c-4be8-a5dd-e73a83fdaa78",
   "metadata": {},
   "outputs": [],
   "source": [
    "import gzip\n",
    "import numpy as np\n",
    "import pickle\n",
    "from scipy.sparse import csr_array\n",
    "import os\n",
    "import subprocess\n",
    "import matplotlib.pyplot as plt\n",
    "import pandas as pd\n",
    "from glob import glob\n",
    "import os\n",
    "import re\n",
    "import random\n",
    "import matplotlib\n",
    "from matplotlib import colors\n",
    "import copy\n",
    "\n",
    "np.set_printoptions(suppress=True)"
   ]
  },
  {
   "cell_type": "code",
   "execution_count": 15,
   "id": "23b44720-3e50-4fd8-b284-b96b164731e4",
   "metadata": {},
   "outputs": [],
   "source": [
    "top = 'bsg_chip'"
   ]
  },
  {
   "cell_type": "code",
   "execution_count": 16,
   "id": "e1b00703-1c05-479a-bc57-4ab1707a6149",
   "metadata": {},
   "outputs": [],
   "source": [
    "dset = f'../DREAMPlace/install/dataset/{top}/{top}_0.7_1.0.icc2.pklz'\n",
    "# dset = '../DREAMPlace/install/dataset/bsg_chip/bsg_chip_0.7_1.25.gp.pklz'\n",
    "with gzip.open(dset) as f:\n",
    "    dataset = pickle.load(f)\n",
    "\n",
    "pin2net = np.array(dataset['pin_info']['pin2net_map'])\n",
    "pin2node = np.array(dataset['pin_info']['pin2node_map'])"
   ]
  },
  {
   "cell_type": "code",
   "execution_count": 17,
   "metadata": {},
   "outputs": [],
   "source": [
    "xx = dataset['node_info']['node_name']\n",
    "with open('xx.txt', 'w') as f:\n",
    "    for x in xx:\n",
    "        f.write(x.decode('UTF-8'))\n",
    "        f.write('\\n')"
   ]
  },
  {
   "cell_type": "code",
   "execution_count": 4,
   "id": "5ddd513d-1ffb-4d42-98ef-45742aba7c7d",
   "metadata": {},
   "outputs": [],
   "source": [
    "# hypergraph incidence matrix\n",
    "H = csr_array((np.ones(len(pin2net)), (pin2node, pin2net)))\n",
    "\n",
    "flat_net2pin_map = np.array(dataset['net_info']['flat_net2pin_map'])\n",
    "flat_net2pin_start_map = np.array(dataset['net_info']['flat_net2pin_start_map'])\n",
    "flat_node2pin_map =  np.array(dataset['node_info']['flat_node2pin_map'])\n",
    "flat_node2pin_start_map =  np.array(dataset['node_info']['flat_node2pin_start_map'])\n",
    "\n",
    "po_x = np.array(dataset['pin_info']['pin_offset'])[0]\n",
    "po_y = np.array(dataset['pin_info']['pin_offset'])[1]\n",
    "pos_x = np.array(dataset['node_info']['node_position'])[0]\n",
    "pos_y = np.array(dataset['node_info']['node_position'])[1]\n",
    "\n",
    "my_net2pin_map = np.array([flat_net2pin_map[flat_net2pin_start_map[i]:flat_net2pin_start_map[i+1]] \\\n",
    "                            for i in range(len(flat_net2pin_start_map) - 1)], dtype=object)\n",
    "my_node2pin_map = np.array([flat_node2pin_map[flat_node2pin_start_map[i]:flat_node2pin_start_map[i+1]] \\\n",
    "                            for i in range(len(flat_node2pin_start_map) - 1)], dtype=object)\n",
    "\n",
    "net2node = [[] for _ in range(H.shape[1])]\n",
    "for pin, net in enumerate(pin2net):\n",
    "    net2node[net].append(str(pin2node[pin] + 1))\n",
    "    \n",
    "hpwl_collection = []\n",
    "for n in range(len(my_net2pin_map)):\n",
    "    pins = my_net2pin_map[n]\n",
    "    pin_offset = np.vstack([po_x[pins], po_y[pins]]).T\n",
    "    pos = np.vstack([pos_x[pin2node[pins]], pos_y[pin2node[pins]]]).T\n",
    "\n",
    "    pin_pos = pos + pin_offset\n",
    "\n",
    "    amax = np.max(pin_pos, axis=0)\n",
    "    amin = np.min(pin_pos, axis=0)\n",
    "\n",
    "    hpwl_collection.append((amax - amin).sum())\n",
    "hpwl_collection = np.array(hpwl_collection)"
   ]
  },
  {
   "cell_type": "code",
   "execution_count": 15,
   "metadata": {},
   "outputs": [
    {
     "data": {
      "text/plain": [
       "array([   1.644722,   75.08486 ,  148.525   ,  221.96513 ,  295.40527 ,\n",
       "        368.84543 ,  442.28555 ,  515.7257  ,  589.16583 ,  662.60596 ,\n",
       "        736.04614 ,  809.48627 ,  882.9264  ,  956.3665  , 1029.8066  ,\n",
       "       1103.2468  , 1176.687   , 1250.1271  , 1323.5673  , 1397.0073  ,\n",
       "       1470.4475  ], dtype=float32)"
      ]
     },
     "execution_count": 15,
     "metadata": {},
     "output_type": "execute_result"
    }
   ],
   "source": [
    "bins"
   ]
  },
  {
   "cell_type": "code",
   "execution_count": 23,
   "metadata": {},
   "outputs": [],
   "source": [
    "bins = np.histogram(np.log10(np.array(hpwl_collection)), bins=10)[1]"
   ]
  },
  {
   "cell_type": "code",
   "execution_count": 34,
   "metadata": {},
   "outputs": [
    {
     "data": {
      "text/plain": [
       "array([ 0,  1,  2,  3,  4,  5,  6,  7,  8,  9, 10])"
      ]
     },
     "execution_count": 34,
     "metadata": {},
     "output_type": "execute_result"
    }
   ],
   "source": [
    "np.digitize(np.log10(np.array(hpwl_collection)), bins, right=True)"
   ]
  },
  {
   "cell_type": "code",
   "execution_count": 12,
   "metadata": {},
   "outputs": [
    {
     "data": {
      "text/plain": [
       "array([ 484.3158  , 1470.4475  ,  142.4211  , ...,   44.144775,\n",
       "         15.750015,   20.039474], dtype=float32)"
      ]
     },
     "execution_count": 12,
     "metadata": {},
     "output_type": "execute_result"
    }
   ],
   "source": [
    "hpwl_collection"
   ]
  },
  {
   "cell_type": "code",
   "execution_count": 32,
   "id": "6e78c331-c77c-4458-b446-40cbaf57084f",
   "metadata": {},
   "outputs": [
    {
     "name": "stdout",
     "output_type": "stream",
     "text": [
      "(10588, 15)\n",
      "10588\n",
      "105\n"
     ]
    },
    {
     "data": {
      "image/png": "[encoded data removed]",
      "text/plain": [
       "<Figure size 1200x800 with 8 Axes>"
      ]
     },
     "metadata": {},
     "output_type": "display_data"
    }
   ],
   "source": [
    "# load eratio\n",
    "eratio = np.load(f'../HyperEF_julia/src/tmp/{top}_py.npy')\n",
    "\n",
    "# Approx. eff. res.\n",
    "evec = np.sort(eratio, axis=1)[:,::-1]\n",
    "print(evec.shape)\n",
    "print(len(hpwl_collection))\n",
    "P = evec[:,0]\n",
    "\n",
    "# Only 1% nets\n",
    "total_net_num = len(hpwl_collection)\n",
    "cut_off_num = int(total_net_num * 10 / 1000)\n",
    "print(cut_off_num)\n",
    "\n",
    "# cut large nets\n",
    "hpwl_max_idx = np.argsort(hpwl_collection)[::-1][:cut_off_num]\n",
    "hpwl_ = np.delete(hpwl_collection, hpwl_max_idx)\n",
    "P = np.delete(P, hpwl_max_idx)\n",
    "net2node_ = np.delete(np.array(net2node, dtype=object), hpwl_max_idx)\n",
    "\n",
    "# hpwl_min_idx = np.argsort(hpwl_collection)[:cut_off_num]\n",
    "# hpwl_ = np.delete(hpwl_collection, hpwl_min_idx)\n",
    "# eff_res_ = np.delete(P, hpwl_min_idx)\n",
    "# net2node_ = np.delete(np.array(net2node, dtype=object), hpwl_min_idx)\n",
    "\n",
    "# hpwl_ = hpwl_collection\n",
    "# eff_res_ = P\n",
    "# net2node_ = np.array(net2node, dtype=object)\n",
    "\n",
    "## GRID LABEL\n",
    "# num_class = 20\n",
    "# heatmap_grid = np.zeros((num_class, num_class))\n",
    "# hpwl_class = np.zeros(len(hpwl_collection), dtype=int)\n",
    "# eff_class = np.zeros(len(hpwl_collection), dtype=int)\n",
    "\n",
    "# net_to_class = np.array_split(np.argsort(hpwl_collection), num_class)\n",
    "# for label in range(num_class):\n",
    "#     hpwl_class[net_to_class[label]] = label\n",
    "\n",
    "# eff_to_class = np.array_split(np.argsort(P), num_class)\n",
    "# for label in range(num_class):\n",
    "#     eff_class[eff_to_class[label]] = label\n",
    "\n",
    "# df = pd.DataFrame()\n",
    "\n",
    "# df['hpwl'] = hpwl_class\n",
    "# df['eff_res'] = eff_class\n",
    "\n",
    "# for index, row in df.iterrows():\n",
    "#     heatmap_grid[row['hpwl'], row['eff_res']] += 1\n",
    "\n",
    "# ignore singleton net\n",
    "zero_idx = np.argwhere(hpwl_ == 0).flatten()\n",
    "hpwl_ = np.delete(hpwl_, zero_idx)\n",
    "evec_ = np.delete(P, zero_idx)\n",
    "degree_ = np.delete(np.array([len(x) for x in net2node_]), zero_idx)\n",
    "\n",
    "evec_[evec_ < 10e-10] = 10e-10\n",
    "\n",
    "fig = plt.figure(figsize=(12,8))\n",
    "fig.set_facecolor('white')\n",
    "my_cmap = copy.copy(matplotlib.colormaps['afmhot']) # copy the default cmap\n",
    "my_cmap.set_bad((0,0,0))\n",
    "\n",
    "ax1 = fig.add_subplot(221)\n",
    "h = ax1.hist2d(hpwl_, evec_, bins=40, norm=colors.LogNorm(), cmap=my_cmap)\n",
    "ax1.set_xlabel('HPWL (log)')\n",
    "ax1.set_ylabel('Eff_res (log)')\n",
    "cur_ax = plt.gca() ## 현재 Axes\n",
    "fig.colorbar(h[3],ax=cur_ax) ## 컬러바 추가\n",
    "\n",
    "ax2 = fig.add_subplot(222)\n",
    "h = ax2.hist2d(np.log10(hpwl_), np.log10(evec_), bins=40, norm=colors.LogNorm(), cmap=matplotlib.colormaps['afmhot'])\n",
    "ax2.set_xlabel('HPWL (log)')\n",
    "ax2.set_ylabel('Eff_res (log)')\n",
    "cur_ax = plt.gca() ## 현재 Axes\n",
    "fig.colorbar(h[3],ax=cur_ax) ## 컬러바 추가\n",
    "\n",
    "ax3 = fig.add_subplot(223)\n",
    "h  = ax3.hist2d(np.log10(hpwl_), np.log10(degree_), bins=40, norm=colors.LogNorm(), cmap=my_cmap)\n",
    "ax3.set_xlabel('HPWL (log)')\n",
    "ax3.set_ylabel('degree (log)')\n",
    "cur_ax = plt.gca() ## 현재 Axes\n",
    "fig.colorbar(h[3],ax=cur_ax) ## 컬러바 추가\n",
    "\n",
    "ax4 = fig.add_subplot(224)\n",
    "h = ax4.hist2d(np.log10(hpwl_), degree_, bins=40, norm=colors.LogNorm(), cmap=matplotlib.colormaps['afmhot'])\n",
    "ax4.set_xlabel('HPWL (log)')\n",
    "ax4.set_ylabel('degree (log)')\n",
    "cur_ax = plt.gca() ## 현재 Axes\n",
    "fig.colorbar(h[3],ax=cur_ax) ## 컬러바 추가\n",
    "\n",
    "fig.savefig('xxx')\n"
   ]
  },
  {
   "cell_type": "code",
   "execution_count": 33,
   "id": "567d6b07-f9a6-4794-9764-51a66fab0eee",
   "metadata": {},
   "outputs": [
    {
     "data": {
      "text/html": [
       "<div>\n",
       "<style scoped>\n",
       "    .dataframe tbody tr th:only-of-type {\n",
       "        vertical-align: middle;\n",
       "    }\n",
       "\n",
       "    .dataframe tbody tr th {\n",
       "        vertical-align: top;\n",
       "    }\n",
       "\n",
       "    .dataframe thead th {\n",
       "        text-align: right;\n",
       "    }\n",
       "</style>\n",
       "<table border=\"1\" class=\"dataframe\">\n",
       "  <thead>\n",
       "    <tr style=\"text-align: right;\">\n",
       "      <th></th>\n",
       "      <th>hpwl</th>\n",
       "      <th>degree</th>\n",
       "      <th>eff_res</th>\n",
       "    </tr>\n",
       "  </thead>\n",
       "  <tbody>\n",
       "    <tr>\n",
       "      <th>hpwl</th>\n",
       "      <td>1.000000</td>\n",
       "      <td>0.481760</td>\n",
       "      <td>0.467087</td>\n",
       "    </tr>\n",
       "    <tr>\n",
       "      <th>degree</th>\n",
       "      <td>0.481760</td>\n",
       "      <td>1.000000</td>\n",
       "      <td>0.622081</td>\n",
       "    </tr>\n",
       "    <tr>\n",
       "      <th>eff_res</th>\n",
       "      <td>0.467087</td>\n",
       "      <td>0.622081</td>\n",
       "      <td>1.000000</td>\n",
       "    </tr>\n",
       "  </tbody>\n",
       "</table>\n",
       "</div>"
      ],
      "text/plain": [
       "             hpwl    degree   eff_res\n",
       "hpwl     1.000000  0.481760  0.467087\n",
       "degree   0.481760  1.000000  0.622081\n",
       "eff_res  0.467087  0.622081  1.000000"
      ]
     },
     "execution_count": 33,
     "metadata": {},
     "output_type": "execute_result"
    }
   ],
   "source": [
    "df = pd.DataFrame()\n",
    "df['hpwl'] = np.log10(hpwl_)\n",
    "df['degree'] = np.log10(degree_)\n",
    "df['eff_res'] = np.log10(evec_)\n",
    "\n",
    "df.corr()"
   ]
  },
  {
   "cell_type": "code",
   "execution_count": null,
   "metadata": {},
   "outputs": [],
   "source": []
  }
 ],
 "metadata": {
  "kernelspec": {
   "display_name": "dgl",
   "language": "python",
   "name": "python3"
  },
  "language_info": {
   "codemirror_mode": {
    "name": "ipython",
    "version": 3
   },
   "file_extension": ".py",
   "mimetype": "text/x-python",
   "name": "python",
   "nbconvert_exporter": "python",
   "pygments_lexer": "ipython3",
   "version": "3.11.5"
  }
 },
 "nbformat": 4,
 "nbformat_minor": 5
}
